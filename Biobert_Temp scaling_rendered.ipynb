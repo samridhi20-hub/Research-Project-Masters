{
 "cells": [
  {
   "cell_type": "code",
   "execution_count": null,
   "metadata": {
    "id": "w6ck9rt6kK5R"
   },
   "outputs": [],
   "source": [
    "#!pip install datasets"
   ]
  },
  {
   "cell_type": "code",
   "execution_count": null,
   "metadata": {
    "id": "XbeHUJHOyl4G"
   },
   "outputs": [],
   "source": [
    "#!pip install torchmetrics[visual]"
   ]
  },
  {
   "cell_type": "code",
   "execution_count": null,
   "metadata": {
    "id": "viqFW6sNjHho"
   },
   "outputs": [],
   "source": [
    "import pandas as pd\n",
    "import re\n",
    "import numpy as np\n",
    "import torch\n",
    "from transformers import AutoTokenizer, AutoModelForSequenceClassification, Trainer, TrainingArguments, DataCollatorWithPadding\n",
    "from datasets import Dataset\n",
    "from sklearn.model_selection import train_test_split\n",
    "from sklearn.metrics import classification_report, confusion_matrix, ConfusionMatrixDisplay\n",
    "import matplotlib.pyplot as plt"
   ]
  },
  {
   "cell_type": "code",
   "execution_count": null,
   "metadata": {
    "id": "GWZKFqjdvTwm"
   },
   "outputs": [],
   "source": [
    "import torch.nn as nn\n",
    "import torch.optim as optim\n",
    "import torch.nn.functional as F\n",
    "from torch.utils.data import DataLoader\n",
    "from torchmetrics.classification import BinaryCalibrationError"
   ]
  },
  {
   "cell_type": "code",
   "execution_count": null,
   "metadata": {
    "id": "P-PH2SQokUKi"
   },
   "outputs": [],
   "source": [
    "df = pd.read_csv(\"/content/pacemaker50K.csv\", dtype=str, low_memory=False)\n",
    "df = df[df[\"FOI_TEXT\"].notna()]\n",
    "df = df[df[\"ADVERSE_EVENT_FLAG\"].isin(['Y', 'N', 'True', 'False', True, False])]\n",
    "df[\"ADVERSE_EVENT_FLAG\"] = df[\"ADVERSE_EVENT_FLAG\"].map({'Y': 1, 'N': 0, 'True': 1, 'False': 0, True: 1, False: 0})\n",
    "df[\"FOI_TEXT\"] = df[\"FOI_TEXT\"].astype(str)\n",
    "df = df[df[\"FOI_TEXT\"].str.strip() != \"\"]"
   ]
  },
  {
   "cell_type": "code",
   "execution_count": null,
   "metadata": {
    "id": "_UHVL_arkUMH"
   },
   "outputs": [],
   "source": [
    "train_df, test_df = train_test_split(\n",
    "    df[[\"FOI_TEXT\", \"ADVERSE_EVENT_FLAG\"]].rename(columns={\"ADVERSE_EVENT_FLAG\": \"label\"}),\n",
    "    test_size=0.2,\n",
    "    stratify=df[\"ADVERSE_EVENT_FLAG\"],\n",
    "    random_state=42\n",
    ")\n",
    "\n",
    "train_dataset = Dataset.from_pandas(train_df.reset_index(drop=True))\n",
    "test_dataset = Dataset.from_pandas(test_df.reset_index(drop=True))"
   ]
  },
  {
   "cell_type": "code",
   "execution_count": null,
   "metadata": {
    "colab": {
     "base_uri": "https://localhost:8080/",
     "height": 269,
     "referenced_widgets": [
      "77e6326ab1d94852a4b9d7d113e9035f",
      "99e193f8995749b08b658b88c6e039e3",
      "63e26f53acd24d7289742950543bb83b",
      "7202208915d346909814746fd7697a9d",
      "fb072d5bbc2242a3a658b0bdc23eb566",
      "6bf10d395c914af3a8e37e3d51f7afda",
      "4b46459de64f4e6ea86a737d8e5adc0d",
      "099005611c4d4fdea109ee91aa5c5e1e",
      "675132c69ef84eb699e18eee08cafe1d",
      "08e769363a11491faf39cf3cd0cbd061",
      "f02d9237cb0d4bea9291f50ad4d121ea",
      "faf56afc616d402ca25c8374d275fb0d",
      "008912c46fba465db40095085e8ae47e",
      "852e33a555a1451b8109a33a2ba89599",
      "72c623eff48a4d578adc1515088d4a85",
      "fbdfa2ad613b498a83fb281467c06060",
      "35082e85e0514454aeac23e488c29d6b",
      "55e2d515f89745a08dbaeb43bbcef5a3",
      "c41a503a7a0242fc8685e0c84db5d76c",
      "6b418f39c9c041b9874adf5a1774626a",
      "4ff3bd679a594264aabd64484078d9c1",
      "21d0fda7013e44ba9f9da47fe5a0812e",
      "bf6c1d04f36d473c96993d381fe0e82f",
      "5df5145c7cd64190880c3a8c4324b1d0",
      "c8679ea21b0d4b04bead831000b785c9",
      "e5b8ff9e81de47af8c5bd5aff58bd7b1",
      "9ced1fcac5e7438386a14db5aa3e52c8",
      "f97acba00aa749c482be021e6894b841",
      "53cd1a9420ff49d1bd218a1fa6b52665",
      "5e8382829371436d85b506fe4b8b8896",
      "13e6c177b38746749c8649030ad5f0c9",
      "e3293e32fa2b4577a8d8374abe32a60c",
      "2113369f1e254c6da81d734eafaa2345",
      "ebcc265d8f504cc180baac133779d61a",
      "cf1ea88eb7f040a19c40026baa4538b1",
      "4d847d83827a4635bf98dd9e60c3ef30",
      "d700c1473c3f422896cef86b33751255",
      "d2f8e45f6a6e4005955ab4968e95b455",
      "4ae8d416abc64aefb3fafcd0278ccda3",
      "6fe36a33641f4ef8b61d9e66eb096258",
      "65822ffdd5d94490a07fa410ee2c78d6",
      "2b617ec4bf954fda8d015254ea15780a",
      "bd8b4af7487345a4af11e61b20106e1c",
      "aec77e8bd5b249d6b5e1a8cd734838b1"
     ]
    },
    "id": "tSu6OyEelVP2",
    "outputId": "d8f56377-a039-40e4-b762-b86a17428359"
   },
   "outputs": [
    {
     "name": "stderr",
     "output_type": "stream",
     "text": [
      "/usr/local/lib/python3.11/dist-packages/huggingface_hub/utils/_auth.py:94: UserWarning: \n",
      "The secret `HF_TOKEN` does not exist in your Colab secrets.\n",
      "To authenticate with the Hugging Face Hub, create a token in your settings tab (https://huggingface.co/settings/tokens), set it as secret in your Google Colab and restart your session.\n",
      "You will be able to reuse this secret in all of your notebooks.\n",
      "Please note that authentication is recommended but still optional to access public models or datasets.\n",
      "  warnings.warn(\n"
     ]
    },
    {
     "data": {
      "application/vnd.jupyter.widget-view+json": {
       "model_id": "77e6326ab1d94852a4b9d7d113e9035f",
       "version_major": 2,
       "version_minor": 0
      },
      "text/plain": [
       "config.json:   0%|          | 0.00/313 [00:00<?, ?B/s]"
      ]
     },
     "metadata": {},
     "output_type": "display_data"
    },
    {
     "data": {
      "application/vnd.jupyter.widget-view+json": {
       "model_id": "faf56afc616d402ca25c8374d275fb0d",
       "version_major": 2,
       "version_minor": 0
      },
      "text/plain": [
       "vocab.txt: 0.00B [00:00, ?B/s]"
      ]
     },
     "metadata": {},
     "output_type": "display_data"
    },
    {
     "data": {
      "application/vnd.jupyter.widget-view+json": {
       "model_id": "bf6c1d04f36d473c96993d381fe0e82f",
       "version_major": 2,
       "version_minor": 0
      },
      "text/plain": [
       "Map:   0%|          | 0/40000 [00:00<?, ? examples/s]"
      ]
     },
     "metadata": {},
     "output_type": "display_data"
    },
    {
     "data": {
      "application/vnd.jupyter.widget-view+json": {
       "model_id": "ebcc265d8f504cc180baac133779d61a",
       "version_major": 2,
       "version_minor": 0
      },
      "text/plain": [
       "Map:   0%|          | 0/10000 [00:00<?, ? examples/s]"
      ]
     },
     "metadata": {},
     "output_type": "display_data"
    }
   ],
   "source": [
    "tokenizer = AutoTokenizer.from_pretrained(\"dmis-lab/biobert-base-cased-v1.1\")\n",
    "\n",
    "# def tokenize(example):\n",
    "#     return tokenizer(example[\"FOI_TEXT\"], truncation=True)\n",
    "\n",
    "# tokenized_train = train_dataset.map(tokenize, batched=True)\n",
    "# tokenized_test = test_dataset.map(tokenize, batched=True)\n",
    "# data_collator = DataCollatorWithPadding(tokenizer=tokenizer)\n",
    "\n",
    "def tokenize(example):\n",
    "    return tokenizer(example[\"FOI_TEXT\"], padding=True, truncation=True, max_length=512) # add padding and max_length\n",
    "\n",
    "tokenized_train = train_dataset.map(tokenize, batched=True)\n",
    "tokenized_test = test_dataset.map(tokenize, batched=True)\n",
    "data_collator = DataCollatorWithPadding(tokenizer=tokenizer) # DataCollatorWithPadding will handle padding automatically"
   ]
  },
  {
   "cell_type": "code",
   "execution_count": null,
   "metadata": {
    "colab": {
     "base_uri": "https://localhost:8080/",
     "height": 136,
     "referenced_widgets": [
      "ccbc5206fdc74fe0959ba9d842f9ea3b",
      "510bf182a3954582a8c289c73420b816",
      "a1343463e9434ebe8663b00e0b8b89be",
      "38993634ba5743c9942815d1115e1db7",
      "c18794f1d2614c67b6ddbbc7a860aaa9",
      "fc1b98abdc8644aea6b90a22268dacdc",
      "54bab776fab24185844b47b8724f4ad7",
      "2488b6503e87497aa06395fbffba3b52",
      "174c85d09caa4111aa813476066fcf6d",
      "9ad8f016b8db4e83983c5ccb1ed1939d",
      "c5959ea27a4d405f872c7943e725d3fb",
      "c0c8579d682b4473bc1725b0ba4c50f2",
      "aad47f454047414bac1e5a5a8dedacd7",
      "6f4da63c8d234a95beb1f71fe1fc4acd",
      "379be4c7e6804e5682f68cbe52d11757",
      "c8e4cab8616f4403b0cb7dc9897c30d6",
      "1973ba74f43c4c889d3f479ca196dbe7",
      "bb0a6e25eb77461895494ac5021a15c1",
      "c1c6f5e4687f4bbbaacaa339c6ae17e8",
      "fd700ddf75cf4a6d99ed2270c682ab3c",
      "8ebd50d80b524a97ad9867c3b36f4a2b",
      "9ea286272729493aa88a69182237f9ca"
     ]
    },
    "id": "FKTTvr0bkUPw",
    "outputId": "432754ef-e637-42cb-d024-838c355328de"
   },
   "outputs": [
    {
     "data": {
      "application/vnd.jupyter.widget-view+json": {
       "model_id": "ccbc5206fdc74fe0959ba9d842f9ea3b",
       "version_major": 2,
       "version_minor": 0
      },
      "text/plain": [
       "pytorch_model.bin:   0%|          | 0.00/436M [00:00<?, ?B/s]"
      ]
     },
     "metadata": {},
     "output_type": "display_data"
    },
    {
     "data": {
      "application/vnd.jupyter.widget-view+json": {
       "model_id": "c0c8579d682b4473bc1725b0ba4c50f2",
       "version_major": 2,
       "version_minor": 0
      },
      "text/plain": [
       "model.safetensors:   0%|          | 0.00/436M [00:00<?, ?B/s]"
      ]
     },
     "metadata": {},
     "output_type": "display_data"
    },
    {
     "name": "stderr",
     "output_type": "stream",
     "text": [
      "Some weights of BertForSequenceClassification were not initialized from the model checkpoint at dmis-lab/biobert-base-cased-v1.1 and are newly initialized: ['classifier.bias', 'classifier.weight']\n",
      "You should probably TRAIN this model on a down-stream task to be able to use it for predictions and inference.\n"
     ]
    }
   ],
   "source": [
    "model = AutoModelForSequenceClassification.from_pretrained(\"dmis-lab/biobert-base-cased-v1.1\", num_labels=2)"
   ]
  },
  {
   "cell_type": "code",
   "execution_count": null,
   "metadata": {
    "id": "dGLtMVwnkURa"
   },
   "outputs": [],
   "source": [
    "# training arguments\n",
    "training_args = TrainingArguments(\n",
    "    output_dir=\"./biobert_results\",\n",
    "    # evaluation_strategy=\"epoch\",\n",
    "    eval_strategy = \"epoch\",\n",
    "    save_strategy=\"epoch\",\n",
    "    learning_rate=2e-5,\n",
    "    per_device_train_batch_size=8,\n",
    "    per_device_eval_batch_size=8,\n",
    "    num_train_epochs=3,\n",
    "    weight_decay=0.01,\n",
    "    logging_dir=\"./logs\",\n",
    "    logging_steps=10,\n",
    "    load_best_model_at_end=True,\n",
    "    remove_unused_columns=False\n",
    ")"
   ]
  },
  {
   "cell_type": "code",
   "execution_count": null,
   "metadata": {
    "colab": {
     "base_uri": "https://localhost:8080/",
     "height": 259
    },
    "id": "tIwXcO49kUU3",
    "outputId": "eea34b39-76cf-48df-e9c0-cdfdc4589c05"
   },
   "outputs": [
    {
     "name": "stderr",
     "output_type": "stream",
     "text": [
      "/tmp/ipython-input-41-1800850030.py:11: FutureWarning: `tokenizer` is deprecated and will be removed in version 5.0.0 for `Trainer.__init__`. Use `processing_class` instead.\n",
      "  trainer = Trainer(\n"
     ]
    },
    {
     "data": {
      "text/html": [
       "\n",
       "    <div>\n",
       "      \n",
       "      <progress value='15000' max='15000' style='width:300px; height:20px; vertical-align: middle;'></progress>\n",
       "      [15000/15000 47:30, Epoch 3/3]\n",
       "    </div>\n",
       "    <table border=\"1\" class=\"dataframe\">\n",
       "  <thead>\n",
       " <tr style=\"text-align: left;\">\n",
       "      <th>Epoch</th>\n",
       "      <th>Training Loss</th>\n",
       "      <th>Validation Loss</th>\n",
       "    </tr>\n",
       "  </thead>\n",
       "  <tbody>\n",
       "    <tr>\n",
       "      <td>1</td>\n",
       "      <td>0.268300</td>\n",
       "      <td>0.310954</td>\n",
       "    </tr>\n",
       "    <tr>\n",
       "      <td>2</td>\n",
       "      <td>0.160300</td>\n",
       "      <td>0.320355</td>\n",
       "    </tr>\n",
       "    <tr>\n",
       "      <td>3</td>\n",
       "      <td>0.345300</td>\n",
       "      <td>0.329107</td>\n",
       "    </tr>\n",
       "  </tbody>\n",
       "</table><p>"
      ],
      "text/plain": [
       "<IPython.core.display.HTML object>"
      ]
     },
     "metadata": {},
     "output_type": "display_data"
    },
    {
     "data": {
      "text/plain": [
       "TrainOutput(global_step=15000, training_loss=0.26700241322120033, metrics={'train_runtime': 2850.3458, 'train_samples_per_second': 42.1, 'train_steps_per_second': 5.263, 'total_flos': 3.157315808768016e+16, 'train_loss': 0.26700241322120033, 'epoch': 3.0})"
      ]
     },
     "execution_count": 41,
     "metadata": {},
     "output_type": "execute_result"
    }
   ],
   "source": [
    "# trainer and training BioBert\n",
    "# trainer = Trainer(\n",
    "#     model=model,\n",
    "#     args=training_args,\n",
    "#     train_dataset=tokenized_train,\n",
    "#     eval_dataset=tokenized_test,\n",
    "#     tokenizer=tokenizer,\n",
    "#     data_collator=data_collator\n",
    "# )\n",
    "\n",
    "trainer = Trainer(\n",
    "    model=model,\n",
    "    args=training_args,\n",
    "    train_dataset=tokenized_train,\n",
    "    eval_dataset=tokenized_test,  # unused for calibration\n",
    "    tokenizer=tokenizer,\n",
    "    data_collator=data_collator,\n",
    "    # remove_unused_columns=False  # keep \"label\" # Removed this unsupported argument\n",
    ")\n",
    "\n",
    "trainer.train() # Uncommented this line to start training"
   ]
  },
  {
   "cell_type": "code",
   "execution_count": null,
   "metadata": {
    "colab": {
     "base_uri": "https://localhost:8080/",
     "height": 663
    },
    "id": "_pAPjLXmkUW5",
    "outputId": "37e7e312-9897-42d2-d423-44887ef393e7"
   },
   "outputs": [
    {
     "data": {
      "text/html": [],
      "text/plain": [
       "<IPython.core.display.HTML object>"
      ]
     },
     "metadata": {},
     "output_type": "display_data"
    },
    {
     "name": "stdout",
     "output_type": "stream",
     "text": [
      "\n",
      "BioBERT Classification Report:\n",
      "              precision    recall  f1-score   support\n",
      "\n",
      "           0       0.86      0.96      0.90      6531\n",
      "           1       0.90      0.70      0.79      3469\n",
      "\n",
      "    accuracy                           0.87     10000\n",
      "   macro avg       0.88      0.83      0.85     10000\n",
      "weighted avg       0.87      0.87      0.86     10000\n",
      "\n"
     ]
    },
    {
     "data": {
      "image/png": "[encoded data removed]",
      "text/plain": [
       "<Figure size 640x480 with 2 Axes>"
      ]
     },
     "metadata": {},
     "output_type": "display_data"
    }
   ],
   "source": [
    "preds_output = trainer.predict(tokenized_test)\n",
    "y_true = preds_output.label_ids\n",
    "y_pred = np.argmax(preds_output.predictions, axis=1)\n",
    "\n",
    "print(\"\\nBioBERT Classification Report:\")\n",
    "print(classification_report(y_true, y_pred))\n",
    "\n",
    "ConfusionMatrixDisplay.from_predictions(y_true, y_pred, display_labels=[\"Not Adverse\", \"Adverse\"])\n",
    "plt.title(\"BioBERT Confusion Matrix\")\n",
    "plt.show()"
   ]
  },
  {
   "cell_type": "code",
   "execution_count": null,
   "metadata": {
    "id": "BXbNOcxO_sgx"
   },
   "outputs": [],
   "source": [
    "for col in [\"FOI_TEXT\", \"some_other_unused_col\"]:\n",
    "    if col in tokenized_train.column_names:\n",
    "        tokenized_train = tokenized_train.remove_columns([col])\n",
    "    if col in tokenized_test.column_names:\n",
    "        tokenized_test = tokenized_test.remove_columns([col])"
   ]
  },
  {
   "cell_type": "code",
   "execution_count": null,
   "metadata": {
    "id": "5Uk9WBeA-oZL"
   },
   "outputs": [],
   "source": [
    "# 1. Clean the tokenized test set\n",
    "usable = {\"input_ids\", \"attention_mask\", \"token_type_ids\", \"label\"}\n",
    "tokenized_test_clean = tokenized_test.remove_columns(\n",
    "    [c for c in tokenized_test.column_names if c not in usable]\n",
    ")\n",
    "\n",
    "# 2. Create validation loader\n",
    "from torch.utils.data import DataLoader\n",
    "val_loader = DataLoader(\n",
    "    tokenized_test_clean,\n",
    "    batch_size=16,\n",
    "    collate_fn=data_collator\n",
    ")\n"
   ]
  },
  {
   "cell_type": "code",
   "execution_count": null,
   "metadata": {
    "colab": {
     "base_uri": "https://localhost:8080/"
    },
    "id": "bD4ONjvA_P5h",
    "outputId": "3c72a7b3-8c7f-437f-a3aa-acb66fd33923"
   },
   "outputs": [
    {
     "name": "stdout",
     "output_type": "stream",
     "text": [
      "{'label': Value(dtype='int64', id=None), 'input_ids': Sequence(feature=Value(dtype='int32', id=None), length=-1, id=None), 'token_type_ids': Sequence(feature=Value(dtype='int8', id=None), length=-1, id=None), 'attention_mask': Sequence(feature=Value(dtype='int8', id=None), length=-1, id=None)}\n"
     ]
    }
   ],
   "source": [
    "print(tokenized_train.features)"
   ]
  },
  {
   "cell_type": "code",
   "execution_count": null,
   "metadata": {
    "id": "8Q6ABOtCOuGH"
   },
   "outputs": [],
   "source": [
    "train_df[\"label\"] = train_df[\"label\"].astype(int)"
   ]
  },
  {
   "cell_type": "code",
   "execution_count": null,
   "metadata": {
    "colab": {
     "base_uri": "https://localhost:8080/"
    },
    "id": "u2OV4wxZBe8B",
    "outputId": "42287e04-c2fe-4d8b-f6bc-a138a5dc824a"
   },
   "outputs": [
    {
     "name": "stdout",
     "output_type": "stream",
     "text": [
      "['label', 'input_ids', 'token_type_ids', 'attention_mask']\n"
     ]
    }
   ],
   "source": [
    "print(tokenized_test.column_names)"
   ]
  },
  {
   "cell_type": "code",
   "execution_count": null,
   "metadata": {
    "id": "fi8FjWHPO8f3"
   },
   "outputs": [],
   "source": [
    "import torch\n",
    "from transformers import DataCollatorWithPadding\n",
    "\n",
    "base_collator = DataCollatorWithPadding(tokenizer=tokenizer)\n",
    "\n",
    "def collate_with_label(features):\n",
    "    # Pad sequences and get existing batch\n",
    "    batch = base_collator(features)\n",
    "    # Extract labels manually\n",
    "    labels = torch.tensor([f[\"label\"] for f in features], dtype=torch.long)\n",
    "    batch[\"label\"] = labels\n",
    "    return batch"
   ]
  },
  {
   "cell_type": "code",
   "execution_count": null,
   "metadata": {
    "id": "DA1jX_gvPDsk"
   },
   "outputs": [],
   "source": [
    "from torch.utils.data import DataLoader\n",
    "\n",
    "val_loader = DataLoader(\n",
    "    tokenized_test,  # can use the original tokenized set\n",
    "    batch_size=16,\n",
    "    collate_fn=collate_with_label,\n",
    "    shuffle=False\n",
    ")"
   ]
  },
  {
   "cell_type": "code",
   "execution_count": null,
   "metadata": {
    "colab": {
     "base_uri": "https://localhost:8080/"
    },
    "id": "IHX-KCcbPIQj",
    "outputId": "957b3701-6b66-40df-c910-c3adf17df340"
   },
   "outputs": [
    {
     "name": "stdout",
     "output_type": "stream",
     "text": [
      "Batch keys: KeysView({'input_ids': tensor([[  101,  1143, 12518,  ...,     0,     0,     0],\n",
      "        [  101,  1142,   181,  ...,     0,     0,     0],\n",
      "        [  101,  1122,  1108,  ...,     0,     0,     0],\n",
      "        ...,\n",
      "        [  101,  1191,  1869,  ...,     0,     0,     0],\n",
      "        [  101,  1122,  1108,  ...,     0,     0,     0],\n",
      "        [  101,  1103,  1730,  ...,     0,     0,     0]]), 'token_type_ids': tensor([[0, 0, 0,  ..., 0, 0, 0],\n",
      "        [0, 0, 0,  ..., 0, 0, 0],\n",
      "        [0, 0, 0,  ..., 0, 0, 0],\n",
      "        ...,\n",
      "        [0, 0, 0,  ..., 0, 0, 0],\n",
      "        [0, 0, 0,  ..., 0, 0, 0],\n",
      "        [0, 0, 0,  ..., 0, 0, 0]]), 'attention_mask': tensor([[1, 1, 1,  ..., 0, 0, 0],\n",
      "        [1, 1, 1,  ..., 0, 0, 0],\n",
      "        [1, 1, 1,  ..., 0, 0, 0],\n",
      "        ...,\n",
      "        [1, 1, 1,  ..., 0, 0, 0],\n",
      "        [1, 1, 1,  ..., 0, 0, 0],\n",
      "        [1, 1, 1,  ..., 0, 0, 0]]), 'labels': tensor([1, 0, 1, 0, 0, 1, 0, 1, 0, 0, 0, 1, 0, 1, 0, 0]), 'label': tensor([1, 0, 1, 0, 0, 1, 0, 1, 0, 0, 0, 1, 0, 1, 0, 0])})\n",
      "Label batch shape: torch.Size([16])\n"
     ]
    }
   ],
   "source": [
    "batch = next(iter(val_loader))\n",
    "print(\"Batch keys:\", batch.keys())\n",
    "print(\"Label batch shape:\", batch[\"label\"].shape)"
   ]
  },
  {
   "cell_type": "code",
   "execution_count": null,
   "metadata": {
    "id": "LXKVqj8CBpXj"
   },
   "outputs": [],
   "source": [
    "# from torch.utils.data import DataLoader\n",
    "\n",
    "# val_loader = DataLoader(\n",
    "#     tokenized_test_clean,\n",
    "#     batch_size=16,\n",
    "#     collate_fn=data_collator  # ensures labels stay intact\n",
    "# )\n",
    "\n",
    "# from torch.utils.data import DataLoader\n",
    "\n",
    "# # Clean & keep only necessary columns\n",
    "# keep_cols = {\"input_ids\", \"attention_mask\", \"token_type_ids\", \"label\"}\n",
    "# tokenized_val_clean = tokenized_test.remove_columns(\n",
    "#     [c for c in tokenized_test.column_names if c not in keep_cols]\n",
    "# )\n",
    "\n",
    "# print(\"Validation columns:\", tokenized_val_clean.column_names)\n",
    "# # Expect: ['input_ids', 'attention_mask', 'token_type_ids', 'label']\n",
    "\n",
    "# val_loader = DataLoader(\n",
    "#     tokenized_val_clean,\n",
    "#     batch_size=16,\n",
    "#     collate_fn=data_collator,\n",
    "#     shuffle=False\n",
    "# )"
   ]
  },
  {
   "cell_type": "code",
   "execution_count": null,
   "metadata": {
    "colab": {
     "base_uri": "https://localhost:8080/"
    },
    "id": "3-LuvKuq-oav",
    "outputId": "7e49b417-4f1c-4cc1-987b-092350947e21"
   },
   "outputs": [
    {
     "name": "stdout",
     "output_type": "stream",
     "text": [
      "✔️ Logits shape: torch.Size([10000, 2])\n",
      "✔️ Labels shape: torch.Size([10000])\n"
     ]
    }
   ],
   "source": [
    "model.eval()\n",
    "logits_list, labels_list = [], []\n",
    "\n",
    "with torch.no_grad():\n",
    "    for batch in val_loader:\n",
    "        inputs = {k: v.to(model.device) for k, v in batch.items()\n",
    "                  if k in [\"input_ids\", \"attention_mask\", \"token_type_ids\"]}\n",
    "        outputs = model(**inputs)\n",
    "        logits_list.append(outputs.logits.cpu())\n",
    "\n",
    "        # Choose between 'label' and 'labels'\n",
    "        if \"label\" in batch:\n",
    "            label_batch = batch[\"label\"]\n",
    "        else:\n",
    "            label_batch = batch[\"labels\"]\n",
    "\n",
    "        # Convert to tensor if needed\n",
    "        if not torch.is_tensor(label_batch):\n",
    "            label_batch = torch.tensor(label_batch)\n",
    "\n",
    "        labels_list.append(label_batch.cpu())\n",
    "\n",
    "logits = torch.cat(logits_list)\n",
    "labels = torch.cat(labels_list)\n",
    "\n",
    "print(\"✔️ Logits shape:\", logits.shape)  # e.g., (N, 2)\n",
    "print(\"✔️ Labels shape:\", labels.shape)  # e.g., (N,)\n"
   ]
  },
  {
   "cell_type": "code",
   "execution_count": null,
   "metadata": {
    "colab": {
     "base_uri": "https://localhost:8080/"
    },
    "id": "QdVgZIxH-oew",
    "outputId": "a20ca660-b2a3-4101-8b1d-67b84b1f3354"
   },
   "outputs": [
    {
     "name": "stdout",
     "output_type": "stream",
     "text": [
      "🎯 Learned T: 1.1529285907745361\n"
     ]
    }
   ],
   "source": [
    "import torch.nn as nn\n",
    "import torch.optim as optim\n",
    "# performing temperature scaling\n",
    "class TemperatureScaler(nn.Module):\n",
    "    def __init__(self):\n",
    "        super().__init__()\n",
    "        self.temperature = nn.Parameter(torch.tensor(1.0))\n",
    "\n",
    "    def forward(self, logits):\n",
    "        return logits / self.temperature\n",
    "\n",
    "temp = TemperatureScaler().to(model.device)\n",
    "optimizer = optim.LBFGS([temp.temperature], lr=0.01, max_iter=50)\n",
    "nll = nn.CrossEntropyLoss()\n",
    "\n",
    "def eval_fn():\n",
    "    optimizer.zero_grad()\n",
    "    loss = nll(temp(logits.to(model.device)), labels.to(model.device))\n",
    "    loss.backward()\n",
    "    return loss\n",
    "\n",
    "optimizer.step(eval_fn)\n",
    "print(\"🎯 Learned T:\", temp.temperature.item())"
   ]
  },
  {
   "cell_type": "code",
   "execution_count": null,
   "metadata": {
    "id": "CPqWjVSLQ3eB"
   },
   "outputs": [],
   "source": [
    "# # move the logits to GPU before applying softmax and scaling\n",
    "# import torch.nn.functional as F\n",
    "\n",
    "# # Ensure logits are on the model's device\n",
    "# logits = logits.to(model.device)\n",
    "\n",
    "# # Apply temperature scaling followed by softmax (on the same device)\n",
    "# scaled_logits = temp(logits)\n",
    "# probs = F.softmax(scaled_logits, dim=1).cpu()  # move to CPU for further analysis or conversion"
   ]
  },
  {
   "cell_type": "code",
   "execution_count": null,
   "metadata": {
    "colab": {
     "base_uri": "https://localhost:8080/",
     "height": 441
    },
    "id": "XQQgoi-nRP3w",
    "outputId": "b752063c-9066-4bfc-b145-e321084f1bb4"
   },
   "outputs": [
    {
     "name": "stdout",
     "output_type": "stream",
     "text": [
      "✅ ECE after scaling: 0.03440350294113159\n"
     ]
    },
    {
     "data": {
      "text/plain": [
       "(<Figure size 640x480 with 1 Axes>, <Axes: ylabel='BinaryCalibrationError'>)"
      ]
     },
     "execution_count": 67,
     "metadata": {},
     "output_type": "execute_result"
    },
    {
     "data": {
      "image/png": "[encoded data removed]",
      "text/plain": [
       "<Figure size 640x480 with 1 Axes>"
      ]
     },
     "metadata": {},
     "output_type": "display_data"
    }
   ],
   "source": [
    "import torch.nn.functional as F\n",
    "\n",
    "# Step 1: Move temp and logits to CPU\n",
    "temp_cpu = temp.to(\"cpu\")\n",
    "logits_cpu = logits.to(\"cpu\")\n",
    "labels_cpu = labels.to(\"cpu\")\n",
    "\n",
    "# Step 2: Run temperature scaling and softmax on CPU\n",
    "scaled_logits_cpu = temp_cpu(logits_cpu)\n",
    "probs_cpu = F.softmax(scaled_logits_cpu, dim=1)\n",
    "\n",
    "# Step 3: Compute ECE\n",
    "from torchmetrics.classification import BinaryCalibrationError\n",
    "\n",
    "ece_metric = BinaryCalibrationError(n_bins=15, norm=\"l1\")\n",
    "ece = ece_metric(probs_cpu[:, 1], labels_cpu)\n",
    "print(\"✅ ECE after scaling:\", ece.item())\n",
    "ece_metric.plot()\n"
   ]
  },
  {
   "cell_type": "code",
   "execution_count": null,
   "metadata": {
    "colab": {
     "base_uri": "https://localhost:8080/"
    },
    "id": "6RI_S9z8-oke",
    "outputId": "5626d0ce-20f7-4b1f-853c-ba499fc974e3"
   },
   "outputs": [
    {
     "data": {
      "text/plain": [
       "('./tokenizer/tokenizer_config.json',\n",
       " './tokenizer/special_tokens_map.json',\n",
       " './tokenizer/vocab.txt',\n",
       " './tokenizer/added_tokens.json',\n",
       " './tokenizer/tokenizer.json')"
      ]
     },
     "execution_count": 68,
     "metadata": {},
     "output_type": "execute_result"
    }
   ],
   "source": [
    "# Make sure these are on CPU for portability\n",
    "model.cpu()\n",
    "temp_cpu = temp.to(\"cpu\")\n",
    "\n",
    "torch.save(model.state_dict(), \"biobert_model.pth\")\n",
    "torch.save(temp_cpu.state_dict(), \"temp_scaler.pth\")\n",
    "tokenizer.save_pretrained(\"./tokenizer\")"
   ]
  },
  {
   "cell_type": "code",
   "execution_count": null,
   "metadata": {
    "id": "uTFW-Lkeu1NQ"
   },
   "outputs": [],
   "source": [
    "# !zip -r biobert_model.zip biobert_finetuned_pacemaker"
   ]
  },
  {
   "cell_type": "code",
   "execution_count": null,
   "metadata": {
    "id": "pB74q-spkUa4"
   },
   "outputs": [],
   "source": [
    "# model.save_pretrained(\"biobert_finetuned_pacemaker\", safe_serialization=False)\n",
    "# tokenizer.save_pretrained(\"biobert_finetuned_pacemaker\")"
   ]
  },
  {
   "cell_type": "code",
   "execution_count": null,
   "metadata": {
    "id": "wwhAlWOS2hDw"
   },
   "outputs": [],
   "source": [
    "# from google.colab import drive\n",
    "# drive.mount('/content/drive')"
   ]
  },
  {
   "cell_type": "code",
   "execution_count": null,
   "metadata": {
    "id": "R3to8OZM2hFf"
   },
   "outputs": [],
   "source": [
    "# !cp -r biobert_finetuned_pacemaker /content/drive/MyDrive/"
   ]
  },
  {
   "cell_type": "code",
   "execution_count": null,
   "metadata": {
    "colab": {
     "base_uri": "https://localhost:8080/"
    },
    "id": "uz9Z8mk82hME",
    "outputId": "927cb5de-cbcd-4a97-83fa-f0e3a63da992"
   },
   "outputs": [
    {
     "name": "stdout",
     "output_type": "stream",
     "text": [
      "\tzip warning: name not matched: config.json\n",
      "\tzip warning: name not matched: pytorch_model.bin\n",
      "  adding: tokenizer/ (stored 0%)\n",
      "  adding: tokenizer/special_tokens_map.json (deflated 42%)\n",
      "  adding: tokenizer/tokenizer.json (deflated 70%)\n",
      "  adding: tokenizer/vocab.txt (deflated 49%)\n",
      "  adding: tokenizer/tokenizer_config.json (deflated 74%)\n",
      "  adding: temp_scaler.pth (deflated 58%)\n"
     ]
    }
   ],
   "source": [
    "!zip -r deployed_model.zip ./tokenizer config.json pytorch_model.bin temp_scaler.pth"
   ]
  },
  {
   "cell_type": "code",
   "execution_count": null,
   "metadata": {
    "colab": {
     "base_uri": "https://localhost:8080/"
    },
    "id": "DDl47bsxS74E",
    "outputId": "948c2597-8b05-47be-b60c-3675620f2541"
   },
   "outputs": [
    {
     "name": "stdout",
     "output_type": "stream",
     "text": [
      "Mounted at /content/drive\n"
     ]
    }
   ],
   "source": [
    "from google.colab import drive\n",
    "drive.mount('/content/drive')"
   ]
  },
  {
   "cell_type": "code",
   "execution_count": null,
   "metadata": {
    "id": "ibjdnL4ES76I"
   },
   "outputs": [],
   "source": [
    "!mkdir -p /content/drive/MyDrive/pacemaker_deploy"
   ]
  },
  {
   "cell_type": "code",
   "execution_count": null,
   "metadata": {
    "id": "ejNAxaKUS7-q"
   },
   "outputs": [],
   "source": [
    "!cp -r tokenizer /content/drive/MyDrive/pacemaker_deploy/\n",
    "!cp biobert_model.pth temp_scaler.pth /content/drive/MyDrive/pacemaker_deploy/"
   ]
  },
  {
   "cell_type": "code",
   "execution_count": null,
   "metadata": {
    "colab": {
     "base_uri": "https://localhost:8080/"
    },
    "id": "_g1_NJaIUJnS",
    "outputId": "5564a26f-783d-43a3-b7ae-82ad1005e651"
   },
   "outputs": [
    {
     "name": "stdout",
     "output_type": "stream",
     "text": [
      "/content/drive/MyDrive/pacemaker_deploy/:\n",
      "biobert_model.pth  temp_scaler.pth  tokenizer\n",
      "\n",
      "/content/drive/MyDrive/pacemaker_deploy/tokenizer:\n",
      "special_tokens_map.json  tokenizer_config.json\ttokenizer.json\tvocab.txt\n"
     ]
    }
   ],
   "source": [
    "!ls -R /content/drive/MyDrive/pacemaker_deploy/"
   ]
  },
  {
   "cell_type": "code",
   "execution_count": null,
   "metadata": {
    "id": "_365ZeFiVJTm"
   },
   "outputs": [],
   "source": []
  },
  {
   "cell_type": "code",
   "execution_count": null,
   "metadata": {
    "id": "q6VdkhFQVJWY"
   },
   "outputs": [],
   "source": []
  }
 ],
 "metadata": {
  "accelerator": "GPU",
  "colab": {
   "gpuType": "A100",
   "machine_shape": "hm",
   "provenance": []
  },
  "kernelspec": {
   "display_name": "Python 3 (ipykernel)",
   "language": "python",
   "name": "python3"
  },
  "language_info": {
   "codemirror_mode": {
    "name": "ipython",
    "version": 3
   },
   "file_extension": ".py",
   "mimetype": "text/x-python",
   "name": "python",
   "nbconvert_exporter": "python",
   "pygments_lexer": "ipython3",
   "version": "3.12.7"
  }
 },
 "nbformat": 4,
 "nbformat_minor": 4
}
