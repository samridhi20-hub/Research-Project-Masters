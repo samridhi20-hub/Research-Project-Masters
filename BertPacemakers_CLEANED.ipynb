{
 "cells": [
  {
   "cell_type": "code",
   "execution_count": 5,
   "metadata": {
    "id": "smBIcXDJFELw"
   },
   "outputs": [],
   "source": [
    "# /content/pacemakerClean2.csv\n",
    "#!pip install datasets"
   ]
  },
  {
   "cell_type": "code",
   "execution_count": 6,
   "metadata": {
    "id": "1Bz3bdggUOOH"
   },
   "outputs": [],
   "source": [
    "# Pacemaker Failure Analysis with BioBERT Fine-Tuning\n",
    "\n",
    "import pandas as pd\n",
    "import re\n",
    "import numpy as np\n",
    "import matplotlib.pyplot as plt\n",
    "from sklearn.metrics import classification_report, confusion_matrix, ConfusionMatrixDisplay\n",
    "from transformers import AutoTokenizer, AutoModelForSequenceClassification, Trainer, TrainingArguments\n",
    "from transformers import DataCollatorWithPadding\n",
    "from datasets import Dataset\n",
    "import torch\n",
    "from sklearn.model_selection import train_test_split"
   ]
  },
  {
   "cell_type": "code",
   "execution_count": 7,
   "metadata": {
    "id": "Fq65yOIXUOPl"
   },
   "outputs": [],
   "source": [
    "# Step 1: Load and clean data\n",
    "file_path = \"/content/pacemaker50K.csv\"\n",
    "df = pd.read_csv(file_path, dtype=str, low_memory=False)\n",
    "df = df[df[\"FOI_TEXT\"].notna()]\n",
    "df = df[df[\"ADVERSE_EVENT_FLAG\"].isin(['Y', 'N', 'True', 'False', True, False])]\n",
    "df[\"FOI_TEXT\"] = df[\"FOI_TEXT\"].astype(str)\n",
    "df[\"ADVERSE_EVENT_FLAG\"] = df[\"ADVERSE_EVENT_FLAG\"].map({'Y': 1, 'N': 0, 'True': 1, 'False': 0, True: 1, False: 0})\n",
    "df = df[df[\"FOI_TEXT\"].str.strip() != \"\"]"
   ]
  },
  {
   "cell_type": "code",
   "execution_count": 8,
   "metadata": {
    "colab": {
     "base_uri": "https://localhost:8080/",
     "height": 269,
     "referenced_widgets": [
      "1a3f8886703c455687651b74393c1499",
      "5994355371ca471aaa82927177b69068",
      "087f42630ddb4bfbbce035dcb761ac18",
      "33379d6407bb40a8bf7d492edc553052",
      "4724329a7fb34d6a95dff33f732c4b69",
      "3eab6187c4014cefbdb095c320aad5d4",
      "bbee036077db44faa1d1e0883586bbfd",
      "16e9e220da9848be93400cf6fc319cd7",
      "222916da221745f8ba179ca0dbe9d017",
      "6762ae9f47184a58b8fb5bf291c5f2bd",
      "88fd7b12de414098b970aa2eb1ee4908",
      "15e0335a5ce641fbaef6b7d52eb027bd",
      "e08d93eb7e724dcfb1764d106d07ea22",
      "8dde8bdd2e1d4fdca33d3707d3862c27",
      "6d314aa967db4a389e9773d2abc625a7",
      "10fd2fca071f4a879fc044255a1682f5",
      "da5f8f8b73404f849ad5141a1b45f35e",
      "02164e7a92324e2899ee5262728d8dda",
      "bc50c26ef66f4488a6b364d1a0b261a1",
      "3e6180c5f4dd490ebb08ccf61b3e1ddb",
      "fd4248b0fb4f445ea9397e8362145dba",
      "39aee29a8fef451a9a99e2caa376e9c6",
      "ee142e4be2044697844e9e82a05d0f99",
      "68f68f9ca9354c87a4ec9c1f17d920d7",
      "16c199580a5244648058afa888373ddc",
      "c052d35ef6cc4ca1a2bb79600dba32f4",
      "5aa8019bef414acd9188e68d1afb993a",
      "c9272a5f9e4d4ecaa429b9357c1d2522",
      "c481fa39fde14da19760c27aaaa2ab0c",
      "8fa61833822a4f81a946f5d765950a61",
      "5d0fd4b84ed14dfdb2f7fa38b684f577",
      "d1e3d36f304f4916a540f82799218bf6",
      "1aa9743fd2c740a0843d94d4a22077e7",
      "1c35d4c2f3de4a8aa843daf47eab146c",
      "ff0b0c92d0e94e08ba919f3ea1347a03",
      "b9a1838a1aef41c6a435c505ae34ae00",
      "3112ae3fd0754b46884e2b6f8a2334a1",
      "55d7ca81932b461cab6d2132f0bc0306",
      "92094281726c40bea1580a4e2656b655",
      "346033e78bd441fbbb87797a62d1ad10",
      "df9f083b66c8401e913de6ebbcf0570c",
      "08d0768cbc114e57b9ef7e2a24f679d3",
      "2ddeec1e7bdd4fa3a75d6f4e6420e875",
      "1afc4d575fc74ea4b2b5e58226964d11"
     ]
    },
    "id": "7fier7lcUOSr",
    "outputId": "d6279cf7-917a-41b8-f72f-2f2a5dd600c4"
   },
   "outputs": [
    {
     "name": "stderr",
     "output_type": "stream",
     "text": [
      "/usr/local/lib/python3.11/dist-packages/huggingface_hub/utils/_auth.py:94: UserWarning: \n",
      "The secret `HF_TOKEN` does not exist in your Colab secrets.\n",
      "To authenticate with the Hugging Face Hub, create a token in your settings tab (https://huggingface.co/settings/tokens), set it as secret in your Google Colab and restart your session.\n",
      "You will be able to reuse this secret in all of your notebooks.\n",
      "Please note that authentication is recommended but still optional to access public models or datasets.\n",
      "  warnings.warn(\n"
     ]
    },
    {
     "data": {
      "application/vnd.jupyter.widget-view+json": {
       "model_id": "1a3f8886703c455687651b74393c1499",
       "version_major": 2,
       "version_minor": 0
      },
      "text/plain": [
       "tokenizer_config.json:   0%|          | 0.00/49.0 [00:00<?, ?B/s]"
      ]
     },
     "metadata": {},
     "output_type": "display_data"
    },
    {
     "data": {
      "application/vnd.jupyter.widget-view+json": {
       "model_id": "15e0335a5ce641fbaef6b7d52eb027bd",
       "version_major": 2,
       "version_minor": 0
      },
      "text/plain": [
       "config.json:   0%|          | 0.00/570 [00:00<?, ?B/s]"
      ]
     },
     "metadata": {},
     "output_type": "display_data"
    },
    {
     "data": {
      "application/vnd.jupyter.widget-view+json": {
       "model_id": "ee142e4be2044697844e9e82a05d0f99",
       "version_major": 2,
       "version_minor": 0
      },
      "text/plain": [
       "vocab.txt:   0%|          | 0.00/213k [00:00<?, ?B/s]"
      ]
     },
     "metadata": {},
     "output_type": "display_data"
    },
    {
     "data": {
      "application/vnd.jupyter.widget-view+json": {
       "model_id": "1c35d4c2f3de4a8aa843daf47eab146c",
       "version_major": 2,
       "version_minor": 0
      },
      "text/plain": [
       "tokenizer.json:   0%|          | 0.00/436k [00:00<?, ?B/s]"
      ]
     },
     "metadata": {},
     "output_type": "display_data"
    }
   ],
   "source": [
    "tokenizer = AutoTokenizer.from_pretrained(\"bert-base-cased\")\n",
    "\n",
    "def tokenize_function(example):\n",
    "    return tokenizer(example[\"FOI_TEXT\"], truncation=True)"
   ]
  },
  {
   "cell_type": "code",
   "execution_count": 9,
   "metadata": {
    "colab": {
     "base_uri": "https://localhost:8080/",
     "height": 81,
     "referenced_widgets": [
      "ac3123c81bfd42feaf227218b5e5e33a",
      "568405811ada42039dae586bea53648e",
      "02b71e43ba1342e1bb22afb1affc8b80",
      "f3bae4b0950440c2a97924f5294244e9",
      "93a1540e2f8b407bbd56e38cdc5f2395",
      "56634549d9044657a33754a4c3d03034",
      "0250bfdf2c624631b20abee4de6fe787",
      "ce11ae352e8d4ad9b786cadd995e644e",
      "7e4c4cc1b4f14374bec1f824498d3f02",
      "39714cbc44cb4b1ba81ddf8ced262ca7",
      "1a0b47a9a58d400b802c81c7172d7671",
      "f647f12bf6fa439ea2936ff753ca5643",
      "a6bf909a48974a87a4ae820f9b6b5760",
      "6ee75340abd04393817ddc226104f1d4",
      "ec101d2618a148fda115a2efb4598c50",
      "5159a8384b64453d9f18513c799d3511",
      "c836c837d72f4775add0003c0b1c20ea",
      "e17afdbc5ea44569828a7aa477335496",
      "554c7e1f339e46b5939e97d47f1b1580",
      "5e3162dc31074c1389af03abea7c653c",
      "5d34d86064e849a2904e8b4b4521ba4c",
      "65ab0c98f36f4147b38a7ab2f8a159b8"
     ]
    },
    "id": "aEiBmvMUUOUG",
    "outputId": "492c51a3-5237-44b2-b348-f28814004e28"
   },
   "outputs": [
    {
     "data": {
      "application/vnd.jupyter.widget-view+json": {
       "model_id": "ac3123c81bfd42feaf227218b5e5e33a",
       "version_major": 2,
       "version_minor": 0
      },
      "text/plain": [
       "Map:   0%|          | 0/40000 [00:00<?, ? examples/s]"
      ]
     },
     "metadata": {},
     "output_type": "display_data"
    },
    {
     "data": {
      "application/vnd.jupyter.widget-view+json": {
       "model_id": "f647f12bf6fa439ea2936ff753ca5643",
       "version_major": 2,
       "version_minor": 0
      },
      "text/plain": [
       "Map:   0%|          | 0/10000 [00:00<?, ? examples/s]"
      ]
     },
     "metadata": {},
     "output_type": "display_data"
    }
   ],
   "source": [
    "train_df, test_df = train_test_split(\n",
    "    df[[\"FOI_TEXT\", \"ADVERSE_EVENT_FLAG\"]].rename(columns={\"ADVERSE_EVENT_FLAG\": \"label\"}),\n",
    "    test_size=0.2,\n",
    "    stratify=df[\"ADVERSE_EVENT_FLAG\"],\n",
    "    random_state=42\n",
    ")\n",
    "\n",
    "# Convert to HuggingFace Datasets\n",
    "train_dataset = Dataset.from_pandas(train_df.reset_index(drop=True))\n",
    "test_dataset = Dataset.from_pandas(test_df.reset_index(drop=True))\n",
    "\n",
    "# Combine into DatasetDict\n",
    "from datasets import DatasetDict\n",
    "dataset = DatasetDict({\n",
    "    \"train\": train_dataset,\n",
    "    \"test\": test_dataset\n",
    "})\n",
    "tokenized_dataset = dataset.map(tokenize_function, batched=True)"
   ]
  },
  {
   "cell_type": "code",
   "execution_count": 10,
   "metadata": {
    "colab": {
     "base_uri": "https://localhost:8080/",
     "height": 138,
     "referenced_widgets": [
      "3df553e75f4e44baade48f497080013e",
      "1ca47a041a9b4a5780e483ba584de23f",
      "c5ecb7b4c85046fd814072a576d1f289",
      "d2aa1316bacc461385a9cf222b6054f8",
      "f7c18a579c6c4f1eb5b9019d8a5ff000",
      "3e179771beae4686a629892cd2f69fcf",
      "c293e22aaf554121a5142bcee02d6d41",
      "48396d8a614b46cd82a2b4bd1077f870",
      "228c681a6290458c918732e30c25ecfd",
      "81e3f37d89b84e4e93dc9347ee472cae",
      "13b2066acd4a42769ca4af92d1844236"
     ]
    },
    "id": "49FsGOBeUOXl",
    "outputId": "d18e3a11-2d61-4c10-a8e4-aa5c61021e0c"
   },
   "outputs": [
    {
     "name": "stderr",
     "output_type": "stream",
     "text": [
      "Xet Storage is enabled for this repo, but the 'hf_xet' package is not installed. Falling back to regular HTTP download. For better performance, install the package with: `pip install huggingface_hub[hf_xet]` or `pip install hf_xet`\n",
      "WARNING:huggingface_hub.file_download:Xet Storage is enabled for this repo, but the 'hf_xet' package is not installed. Falling back to regular HTTP download. For better performance, install the package with: `pip install huggingface_hub[hf_xet]` or `pip install hf_xet`\n"
     ]
    },
    {
     "data": {
      "application/vnd.jupyter.widget-view+json": {
       "model_id": "3df553e75f4e44baade48f497080013e",
       "version_major": 2,
       "version_minor": 0
      },
      "text/plain": [
       "model.safetensors:   0%|          | 0.00/436M [00:00<?, ?B/s]"
      ]
     },
     "metadata": {},
     "output_type": "display_data"
    },
    {
     "name": "stderr",
     "output_type": "stream",
     "text": [
      "Some weights of BertForSequenceClassification were not initialized from the model checkpoint at bert-base-cased and are newly initialized: ['classifier.bias', 'classifier.weight']\n",
      "You should probably TRAIN this model on a down-stream task to be able to use it for predictions and inference.\n"
     ]
    }
   ],
   "source": [
    "# Step 4: Load BioBERT for Sequence Classification\n",
    "# model = AutoModelForSequenceClassification.from_pretrained(\"dmis-lab/biobert-base-cased-v1.1\", num_labels=2)\n",
    "model = AutoModelForSequenceClassification.from_pretrained(\"bert-base-cased\", num_labels=2)\n",
    "data_collator = DataCollatorWithPadding(tokenizer=tokenizer)"
   ]
  },
  {
   "cell_type": "code",
   "execution_count": 11,
   "metadata": {
    "id": "fGII9WUlVlI_"
   },
   "outputs": [],
   "source": [
    "# !pip install transformers --upgrade"
   ]
  },
  {
   "cell_type": "code",
   "execution_count": 12,
   "metadata": {
    "id": "NNyFpaefUOY5"
   },
   "outputs": [],
   "source": [
    "# training_args = TrainingArguments(\n",
    "#     output_dir=\"./results\",\n",
    "#     evaluation_strategy=\"steps\",  # Evaluate and save at the same strategy\n",
    "#     eval_steps=100,  # Evaluate every 100 training steps\n",
    "#     save_steps=100,  # Save every 100 training steps\n",
    "#     save_strategy=\"steps\",  # Save based on steps instead of epoch\n",
    "#     learning_rate=2e-5,\n",
    "#     per_device_train_batch_size=8,\n",
    "#     per_device_eval_batch_size=8,\n",
    "#     num_train_epochs=3,\n",
    "#     weight_decay=0.01,\n",
    "#     logging_dir=\"./logs\",\n",
    "#     logging_steps=10,\n",
    "#     load_best_model_at_end=True,\n",
    "# )\n",
    "\n",
    "training_args = TrainingArguments(\n",
    "    output_dir=\"./results\",\n",
    "    do_train=True,\n",
    "    do_eval=True,\n",
    "    per_device_train_batch_size=8,\n",
    "    per_device_eval_batch_size=8,\n",
    "    num_train_epochs=3,\n",
    "    logging_dir=\"./logs\"\n",
    ")"
   ]
  },
  {
   "cell_type": "code",
   "execution_count": 13,
   "metadata": {
    "colab": {
     "base_uri": "https://localhost:8080/"
    },
    "id": "BXdhA-LEY4dd",
    "outputId": "31596014-c40e-4d73-cc25-f62daa170f90"
   },
   "outputs": [
    {
     "name": "stderr",
     "output_type": "stream",
     "text": [
      "<ipython-input-13-8ab2019a9060>:2: FutureWarning: `tokenizer` is deprecated and will be removed in version 5.0.0 for `Trainer.__init__`. Use `processing_class` instead.\n",
      "  trainer = Trainer(\n"
     ]
    }
   ],
   "source": [
    "# Step 6: Trainer setup\n",
    "trainer = Trainer(\n",
    "    model=model,\n",
    "    args=training_args,\n",
    "    train_dataset=tokenized_dataset[\"train\"],\n",
    "    eval_dataset=tokenized_dataset[\"test\"],\n",
    "    tokenizer=tokenizer,\n",
    "    data_collator=data_collator,\n",
    ")"
   ]
  },
  {
   "cell_type": "code",
   "execution_count": 14,
   "metadata": {
    "colab": {
     "base_uri": "https://localhost:8080/",
     "height": 1000
    },
    "id": "aDpQ9T9wUOb1",
    "outputId": "3cfd4efd-d8da-47a0-eec5-b0a5bc372696"
   },
   "outputs": [
    {
     "name": "stderr",
     "output_type": "stream",
     "text": [
      "\u001b[34m\u001b[1mwandb\u001b[0m: \u001b[33mWARNING\u001b[0m The `run_name` is currently set to the same value as `TrainingArguments.output_dir`. If this was not intended, please specify a different run name by setting the `TrainingArguments.run_name` parameter.\n",
      "\u001b[34m\u001b[1mwandb\u001b[0m: Using wandb-core as the SDK backend.  Please refer to https://wandb.me/wandb-core for more information.\n"
     ]
    },
    {
     "data": {
      "application/javascript": [
       "\n",
       "        window._wandbApiKey = new Promise((resolve, reject) => {\n",
       "            function loadScript(url) {\n",
       "            return new Promise(function(resolve, reject) {\n",
       "                let newScript = document.createElement(\"script\");\n",
       "                newScript.onerror = reject;\n",
       "                newScript.onload = resolve;\n",
       "                document.body.appendChild(newScript);\n",
       "                newScript.src = url;\n",
       "            });\n",
       "            }\n",
       "            loadScript(\"https://cdn.jsdelivr.net/npm/postmate/build/postmate.min.js\").then(() => {\n",
       "            const iframe = document.createElement('iframe')\n",
       "            iframe.style.cssText = \"width:0;height:0;border:none\"\n",
       "            document.body.appendChild(iframe)\n",
       "            const handshake = new Postmate({\n",
       "                container: iframe,\n",
       "                url: 'https://wandb.ai/authorize'\n",
       "            });\n",
       "            const timeout = setTimeout(() => reject(\"Couldn't auto authenticate\"), 5000)\n",
       "            handshake.then(function(child) {\n",
       "                child.on('authorize', data => {\n",
       "                    clearTimeout(timeout)\n",
       "                    resolve(data)\n",
       "                });\n",
       "            });\n",
       "            })\n",
       "        });\n",
       "    "
      ],
      "text/plain": [
       "<IPython.core.display.Javascript object>"
      ]
     },
     "metadata": {},
     "output_type": "display_data"
    },
    {
     "name": "stderr",
     "output_type": "stream",
     "text": [
      "\u001b[34m\u001b[1mwandb\u001b[0m: Logging into wandb.ai. (Learn how to deploy a W&B server locally: https://wandb.me/wandb-server)\n",
      "\u001b[34m\u001b[1mwandb\u001b[0m: You can find your API key in your browser here: https://wandb.ai/authorize\n",
      "wandb: Paste an API key from your profile and hit enter:"
     ]
    },
    {
     "name": "stdout",
     "output_type": "stream",
     "text": [
      " ··········\n"
     ]
    },
    {
     "name": "stderr",
     "output_type": "stream",
     "text": [
      "\u001b[34m\u001b[1mwandb\u001b[0m: \u001b[33mWARNING\u001b[0m If you're specifying your api key in code, ensure this code is not shared publicly.\n",
      "\u001b[34m\u001b[1mwandb\u001b[0m: \u001b[33mWARNING\u001b[0m Consider setting the WANDB_API_KEY environment variable, or running `wandb login` from the command line.\n",
      "\u001b[34m\u001b[1mwandb\u001b[0m: No netrc file found, creating one.\n",
      "\u001b[34m\u001b[1mwandb\u001b[0m: Appending key for api.wandb.ai to your netrc file: /root/.netrc\n",
      "\u001b[34m\u001b[1mwandb\u001b[0m: Currently logged in as: \u001b[33m1nh18cs168-samridhigupta\u001b[0m (\u001b[33m1nh18cs168-samridhigupta-university-of-adelaide\u001b[0m) to \u001b[32mhttps://api.wandb.ai\u001b[0m. Use \u001b[1m`wandb login --relogin`\u001b[0m to force relogin\n"
     ]
    },
    {
     "data": {
      "text/html": [
       "Tracking run with wandb version 0.19.9"
      ],
      "text/plain": [
       "<IPython.core.display.HTML object>"
      ]
     },
     "metadata": {},
     "output_type": "display_data"
    },
    {
     "data": {
      "text/html": [
       "Run data is saved locally in <code>/content/wandb/run-20250420_055846-f48493bp</code>"
      ],
      "text/plain": [
       "<IPython.core.display.HTML object>"
      ]
     },
     "metadata": {},
     "output_type": "display_data"
    },
    {
     "data": {
      "text/html": [
       "Syncing run <strong><a href='https://wandb.ai/1nh18cs168-samridhigupta-university-of-adelaide/huggingface/runs/f48493bp' target=\"_blank\">./results</a></strong> to <a href='https://wandb.ai/1nh18cs168-samridhigupta-university-of-adelaide/huggingface' target=\"_blank\">Weights & Biases</a> (<a href='https://wandb.me/developer-guide' target=\"_blank\">docs</a>)<br>"
      ],
      "text/plain": [
       "<IPython.core.display.HTML object>"
      ]
     },
     "metadata": {},
     "output_type": "display_data"
    },
    {
     "data": {
      "text/html": [
       " View project at <a href='https://wandb.ai/1nh18cs168-samridhigupta-university-of-adelaide/huggingface' target=\"_blank\">https://wandb.ai/1nh18cs168-samridhigupta-university-of-adelaide/huggingface</a>"
      ],
      "text/plain": [
       "<IPython.core.display.HTML object>"
      ]
     },
     "metadata": {},
     "output_type": "display_data"
    },
    {
     "data": {
      "text/html": [
       " View run at <a href='https://wandb.ai/1nh18cs168-samridhigupta-university-of-adelaide/huggingface/runs/f48493bp' target=\"_blank\">https://wandb.ai/1nh18cs168-samridhigupta-university-of-adelaide/huggingface/runs/f48493bp</a>"
      ],
      "text/plain": [
       "<IPython.core.display.HTML object>"
      ]
     },
     "metadata": {},
     "output_type": "display_data"
    },
    {
     "data": {
      "text/html": [
       "\n",
       "    <div>\n",
       "      \n",
       "      <progress value='15000' max='15000' style='width:300px; height:20px; vertical-align: middle;'></progress>\n",
       "      [15000/15000 2:59:16, Epoch 3/3]\n",
       "    </div>\n",
       "    <table border=\"1\" class=\"dataframe\">\n",
       "  <thead>\n",
       " <tr style=\"text-align: left;\">\n",
       "      <th>Step</th>\n",
       "      <th>Training Loss</th>\n",
       "    </tr>\n",
       "  </thead>\n",
       "  <tbody>\n",
       "    <tr>\n",
       "      <td>500</td>\n",
       "      <td>0.616900</td>\n",
       "    </tr>\n",
       "    <tr>\n",
       "      <td>1000</td>\n",
       "      <td>0.584500</td>\n",
       "    </tr>\n",
       "    <tr>\n",
       "      <td>1500</td>\n",
       "      <td>0.661000</td>\n",
       "    </tr>\n",
       "    <tr>\n",
       "      <td>2000</td>\n",
       "      <td>0.657200</td>\n",
       "    </tr>\n",
       "    <tr>\n",
       "      <td>2500</td>\n",
       "      <td>0.656200</td>\n",
       "    </tr>\n",
       "    <tr>\n",
       "      <td>3000</td>\n",
       "      <td>0.651600</td>\n",
       "    </tr>\n",
       "    <tr>\n",
       "      <td>3500</td>\n",
       "      <td>0.649300</td>\n",
       "    </tr>\n",
       "    <tr>\n",
       "      <td>4000</td>\n",
       "      <td>0.660800</td>\n",
       "    </tr>\n",
       "    <tr>\n",
       "      <td>4500</td>\n",
       "      <td>0.653900</td>\n",
       "    </tr>\n",
       "    <tr>\n",
       "      <td>5000</td>\n",
       "      <td>0.658600</td>\n",
       "    </tr>\n",
       "    <tr>\n",
       "      <td>5500</td>\n",
       "      <td>0.658700</td>\n",
       "    </tr>\n",
       "    <tr>\n",
       "      <td>6000</td>\n",
       "      <td>0.658700</td>\n",
       "    </tr>\n",
       "    <tr>\n",
       "      <td>6500</td>\n",
       "      <td>0.661300</td>\n",
       "    </tr>\n",
       "    <tr>\n",
       "      <td>7000</td>\n",
       "      <td>0.648500</td>\n",
       "    </tr>\n",
       "    <tr>\n",
       "      <td>7500</td>\n",
       "      <td>0.651800</td>\n",
       "    </tr>\n",
       "    <tr>\n",
       "      <td>8000</td>\n",
       "      <td>0.648600</td>\n",
       "    </tr>\n",
       "    <tr>\n",
       "      <td>8500</td>\n",
       "      <td>0.646000</td>\n",
       "    </tr>\n",
       "    <tr>\n",
       "      <td>9000</td>\n",
       "      <td>0.655800</td>\n",
       "    </tr>\n",
       "    <tr>\n",
       "      <td>9500</td>\n",
       "      <td>0.648100</td>\n",
       "    </tr>\n",
       "    <tr>\n",
       "      <td>10000</td>\n",
       "      <td>0.648400</td>\n",
       "    </tr>\n",
       "    <tr>\n",
       "      <td>10500</td>\n",
       "      <td>0.649900</td>\n",
       "    </tr>\n",
       "    <tr>\n",
       "      <td>11000</td>\n",
       "      <td>0.656200</td>\n",
       "    </tr>\n",
       "    <tr>\n",
       "      <td>11500</td>\n",
       "      <td>0.652400</td>\n",
       "    </tr>\n",
       "    <tr>\n",
       "      <td>12000</td>\n",
       "      <td>0.639900</td>\n",
       "    </tr>\n",
       "    <tr>\n",
       "      <td>12500</td>\n",
       "      <td>0.645500</td>\n",
       "    </tr>\n",
       "    <tr>\n",
       "      <td>13000</td>\n",
       "      <td>0.650900</td>\n",
       "    </tr>\n",
       "    <tr>\n",
       "      <td>13500</td>\n",
       "      <td>0.651400</td>\n",
       "    </tr>\n",
       "    <tr>\n",
       "      <td>14000</td>\n",
       "      <td>0.636300</td>\n",
       "    </tr>\n",
       "    <tr>\n",
       "      <td>14500</td>\n",
       "      <td>0.650700</td>\n",
       "    </tr>\n",
       "    <tr>\n",
       "      <td>15000</td>\n",
       "      <td>0.658500</td>\n",
       "    </tr>\n",
       "  </tbody>\n",
       "</table><p>"
      ],
      "text/plain": [
       "<IPython.core.display.HTML object>"
      ]
     },
     "metadata": {},
     "output_type": "display_data"
    },
    {
     "data": {
      "text/plain": [
       "TrainOutput(global_step=15000, training_loss=0.6489226114908854, metrics={'train_runtime': 10791.6995, 'train_samples_per_second': 11.12, 'train_steps_per_second': 1.39, 'total_flos': 3.006882062865936e+16, 'train_loss': 0.6489226114908854, 'epoch': 3.0})"
      ]
     },
     "execution_count": 14,
     "metadata": {},
     "output_type": "execute_result"
    }
   ],
   "source": [
    "# Step 7: Train the model\n",
    "trainer.train()"
   ]
  },
  {
   "cell_type": "markdown",
   "metadata": {
    "id": "fsR3YRZQYwzl"
   },
   "source": []
  },
  {
   "cell_type": "code",
   "execution_count": 16,
   "metadata": {
    "colab": {
     "base_uri": "https://localhost:8080/",
     "height": 839
    },
    "id": "e2jY-5gCUOek",
    "outputId": "2aeb0d55-5b6e-4e3c-d0d3-3097f53d5072"
   },
   "outputs": [
    {
     "data": {
      "text/html": [],
      "text/plain": [
       "<IPython.core.display.HTML object>"
      ]
     },
     "metadata": {},
     "output_type": "display_data"
    },
    {
     "name": "stdout",
     "output_type": "stream",
     "text": [
      "\n",
      "Classification Report (BERT):\n",
      "\n",
      "              precision    recall  f1-score   support\n",
      "\n",
      "           0       0.65      1.00      0.79      6531\n",
      "           1       0.00      0.00      0.00      3469\n",
      "\n",
      "    accuracy                           0.65     10000\n",
      "   macro avg       0.33      0.50      0.40     10000\n",
      "weighted avg       0.43      0.65      0.52     10000\n",
      "\n"
     ]
    },
    {
     "name": "stderr",
     "output_type": "stream",
     "text": [
      "/usr/local/lib/python3.11/dist-packages/sklearn/metrics/_classification.py:1565: UndefinedMetricWarning: Precision is ill-defined and being set to 0.0 in labels with no predicted samples. Use `zero_division` parameter to control this behavior.\n",
      "  _warn_prf(average, modifier, f\"{metric.capitalize()} is\", len(result))\n",
      "/usr/local/lib/python3.11/dist-packages/sklearn/metrics/_classification.py:1565: UndefinedMetricWarning: Precision is ill-defined and being set to 0.0 in labels with no predicted samples. Use `zero_division` parameter to control this behavior.\n",
      "  _warn_prf(average, modifier, f\"{metric.capitalize()} is\", len(result))\n",
      "/usr/local/lib/python3.11/dist-packages/sklearn/metrics/_classification.py:1565: UndefinedMetricWarning: Precision is ill-defined and being set to 0.0 in labels with no predicted samples. Use `zero_division` parameter to control this behavior.\n",
      "  _warn_prf(average, modifier, f\"{metric.capitalize()} is\", len(result))\n"
     ]
    },
    {
     "data": {
      "image/png": "[encoded data removed]",
      "text/plain": [
       "<Figure size 640x480 with 2 Axes>"
      ]
     },
     "metadata": {},
     "output_type": "display_data"
    },
    {
     "name": "stdout",
     "output_type": "stream",
     "text": [
      "\n",
      " Model saved to ./fine_tuned_biobert\n"
     ]
    }
   ],
   "source": [
    "# Step 8: Evaluate the model\n",
    "predictions = trainer.predict(tokenized_dataset[\"test\"])\n",
    "preds = np.argmax(predictions.predictions, axis=1)\n",
    "labels = predictions.label_ids\n",
    "\n",
    "print(\"\\nClassification Report (BERT):\\n\")\n",
    "print(classification_report(labels, preds))\n",
    "\n",
    "# Confusion matrix\n",
    "cm = confusion_matrix(labels, preds)\n",
    "ConfusionMatrixDisplay(cm, display_labels=[\"Not Adverse\", \"Adverse\"]).plot(cmap=\"Blues\")\n",
    "plt.title(\"Confusion Matrix - BERT\")\n",
    "plt.show()\n",
    "\n",
    "# Optional: Save fine-tuned model\n",
    "model.save_pretrained(\"./fine_tuned_biobert\")\n",
    "tokenizer.save_pretrained(\"./fine_tuned_biobert\")\n",
    "print(\"\\n Model saved to ./fine_tuned_biobert\")\n"
   ]
  }
 ],
 "metadata": {
  "accelerator": "GPU",
  "colab": {
   "gpuType": "T4",
   "machine_shape": "hm",
   "provenance": []
  },
  "kernelspec": {
   "display_name": "Python 3",
   "name": "python3"
  },
  "language_info": {
   "name": "python"
  }
 },
 "nbformat": 4,
 "nbformat_minor": 0
}
