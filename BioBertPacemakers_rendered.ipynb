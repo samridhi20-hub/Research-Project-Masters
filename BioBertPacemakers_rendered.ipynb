{
 "cells": [
  {
   "cell_type": "code",
   "execution_count": null,
   "metadata": {
    "id": "w6ck9rt6kK5R"
   },
   "outputs": [],
   "source": [
    "#!pip install datasets"
   ]
  },
  {
   "cell_type": "code",
   "execution_count": null,
   "metadata": {
    "id": "viqFW6sNjHho"
   },
   "outputs": [],
   "source": [
    "import pandas as pd\n",
    "import re\n",
    "import numpy as np\n",
    "import torch\n",
    "from transformers import AutoTokenizer, AutoModelForSequenceClassification, Trainer, TrainingArguments, DataCollatorWithPadding\n",
    "from datasets import Dataset\n",
    "from sklearn.model_selection import train_test_split\n",
    "from sklearn.metrics import classification_report, confusion_matrix, ConfusionMatrixDisplay\n",
    "import matplotlib.pyplot as plt"
   ]
  },
  {
   "cell_type": "code",
   "execution_count": null,
   "metadata": {
    "id": "P-PH2SQokUKi"
   },
   "outputs": [],
   "source": [
    "df = pd.read_csv(\"/content/pacemaker50K.csv\", dtype=str, low_memory=False)\n",
    "df = df[df[\"FOI_TEXT\"].notna()]\n",
    "df = df[df[\"ADVERSE_EVENT_FLAG\"].isin(['Y', 'N', 'True', 'False', True, False])]\n",
    "df[\"ADVERSE_EVENT_FLAG\"] = df[\"ADVERSE_EVENT_FLAG\"].map({'Y': 1, 'N': 0, 'True': 1, 'False': 0, True: 1, False: 0})\n",
    "df[\"FOI_TEXT\"] = df[\"FOI_TEXT\"].astype(str)\n",
    "df = df[df[\"FOI_TEXT\"].str.strip() != \"\"]"
   ]
  },
  {
   "cell_type": "code",
   "execution_count": null,
   "metadata": {
    "id": "_UHVL_arkUMH"
   },
   "outputs": [],
   "source": [
    "train_df, test_df = train_test_split(\n",
    "    df[[\"FOI_TEXT\", \"ADVERSE_EVENT_FLAG\"]].rename(columns={\"ADVERSE_EVENT_FLAG\": \"label\"}),\n",
    "    test_size=0.2,\n",
    "    stratify=df[\"ADVERSE_EVENT_FLAG\"],\n",
    "    random_state=42\n",
    ")\n",
    "\n",
    "train_dataset = Dataset.from_pandas(train_df.reset_index(drop=True))\n",
    "test_dataset = Dataset.from_pandas(test_df.reset_index(drop=True))"
   ]
  },
  {
   "cell_type": "code",
   "execution_count": null,
   "metadata": {
    "colab": {
     "base_uri": "https://localhost:8080/",
     "height": 81,
     "referenced_widgets": [
      "ca58977bb1ed4d87b2253853d8c1fab6",
      "c011537b09cd427596b9120df020dc6e",
      "2be9bd8fff3244a8814e77c1a838d4e7",
      "a9a707f367464f1cb873efabbb4d841d",
      "f96c8003e16b41a9bc5184e370a9f36a",
      "51ad51215dc2440892e682e45f4fb682",
      "987dee09807b447587a1a7312d187803",
      "44543ea69ae74077987c213a8128584a",
      "300bf97c673d4f9987efffd0f46fc1ee",
      "2b246d02f0b84e7bbbe1c6513f161229",
      "cab13bd4e0bc4e1dba9522d58675c126",
      "014fcf422576428ebf3a5feb89759b97",
      "18cd0c63930243598c2d85cfd8918b00",
      "f4098beab3d448258fba9c265717b79e",
      "e8825b8e30634a90b02ad9deedee622c",
      "06bc408e088941ee8c1f8acc6c3f8569",
      "9b94750c4a7846dd80c7309639d7087a",
      "7cf1ce61d799423f8ec56cdcd28481c0",
      "87d5ddb5e00a44c6a82806a6f263b7aa",
      "3223768420774d0dbefde0a29d91352a",
      "0e7bad9d652545f39b097b34875d9be6",
      "8ded485c46514ea9bea0ab40daf33474"
     ]
    },
    "id": "tSu6OyEelVP2",
    "outputId": "c77dccb3-7ad4-4139-ed01-0bf05371f8f4"
   },
   "outputs": [
    {
     "data": {
      "application/vnd.jupyter.widget-view+json": {
       "model_id": "ca58977bb1ed4d87b2253853d8c1fab6",
       "version_major": 2,
       "version_minor": 0
      },
      "text/plain": [
       "Map:   0%|          | 0/40000 [00:00<?, ? examples/s]"
      ]
     },
     "metadata": {},
     "output_type": "display_data"
    },
    {
     "data": {
      "application/vnd.jupyter.widget-view+json": {
       "model_id": "014fcf422576428ebf3a5feb89759b97",
       "version_major": 2,
       "version_minor": 0
      },
      "text/plain": [
       "Map:   0%|          | 0/10000 [00:00<?, ? examples/s]"
      ]
     },
     "metadata": {},
     "output_type": "display_data"
    }
   ],
   "source": [
    "tokenizer = AutoTokenizer.from_pretrained(\"dmis-lab/biobert-base-cased-v1.1\")\n",
    "\n",
    "# def tokenize(example):\n",
    "#     return tokenizer(example[\"FOI_TEXT\"], truncation=True)\n",
    "\n",
    "# tokenized_train = train_dataset.map(tokenize, batched=True)\n",
    "# tokenized_test = test_dataset.map(tokenize, batched=True)\n",
    "# data_collator = DataCollatorWithPadding(tokenizer=tokenizer)\n",
    "\n",
    "def tokenize(example):\n",
    "    return tokenizer(example[\"FOI_TEXT\"], padding=True, truncation=True, max_length=512) # add padding and max_length\n",
    "\n",
    "tokenized_train = train_dataset.map(tokenize, batched=True)\n",
    "tokenized_test = test_dataset.map(tokenize, batched=True)\n",
    "data_collator = DataCollatorWithPadding(tokenizer=tokenizer) # DataCollatorWithPadding will handle padding automatically"
   ]
  },
  {
   "cell_type": "code",
   "execution_count": null,
   "metadata": {
    "colab": {
     "base_uri": "https://localhost:8080/"
    },
    "id": "FKTTvr0bkUPw",
    "outputId": "71ddf868-5ab2-4869-ab50-e4d307dbb1c2"
   },
   "outputs": [
    {
     "name": "stderr",
     "output_type": "stream",
     "text": [
      "Some weights of BertForSequenceClassification were not initialized from the model checkpoint at dmis-lab/biobert-base-cased-v1.1 and are newly initialized: ['classifier.bias', 'classifier.weight']\n",
      "You should probably TRAIN this model on a down-stream task to be able to use it for predictions and inference.\n"
     ]
    }
   ],
   "source": [
    "model = AutoModelForSequenceClassification.from_pretrained(\"dmis-lab/biobert-base-cased-v1.1\", num_labels=2)"
   ]
  },
  {
   "cell_type": "code",
   "execution_count": null,
   "metadata": {
    "id": "dGLtMVwnkURa"
   },
   "outputs": [],
   "source": [
    "# training arguments\n",
    "training_args = TrainingArguments(\n",
    "    output_dir=\"./biobert_results\",\n",
    "    # evaluation_strategy=\"epoch\",\n",
    "    eval_strategy = \"epoch\",\n",
    "    save_strategy=\"epoch\",\n",
    "    learning_rate=2e-5,\n",
    "    per_device_train_batch_size=8,\n",
    "    per_device_eval_batch_size=8,\n",
    "    num_train_epochs=3,\n",
    "    weight_decay=0.01,\n",
    "    logging_dir=\"./logs\",\n",
    "    logging_steps=10,\n",
    "    load_best_model_at_end=True,\n",
    ")"
   ]
  },
  {
   "cell_type": "code",
   "execution_count": 18,
   "metadata": {
    "colab": {
     "base_uri": "https://localhost:8080/",
     "height": 317
    },
    "id": "tIwXcO49kUU3",
    "outputId": "74183149-3315-4cbe-f675-d04367e70332"
   },
   "outputs": [
    {
     "metadata": {
      "tags": null
     },
     "name": "stderr",
     "output_type": "stream",
     "text": [
      "<ipython-input-18-da0c40d25abd>:2: FutureWarning: `tokenizer` is deprecated and will be removed in version 5.0.0 for `Trainer.__init__`. Use `processing_class` instead.\n",
      "  trainer = Trainer(\n"
     ]
    },
    {
     "data": {
      "text/html": [
       "\n",
       "    <div>\n",
       "      \n",
       "      <progress value='1682' max='15000' style='width:300px; height:20px; vertical-align: middle;'></progress>\n",
       "      [ 1682/15000 22:13 < 2:56:09, 1.26 it/s, Epoch 0.34/3]\n",
       "    </div>\n",
       "    <table border=\"1\" class=\"dataframe\">\n",
       "  <thead>\n",
       " <tr style=\"text-align: left;\">\n",
       "      <th>Epoch</th>\n",
       "      <th>Training Loss</th>\n",
       "      <th>Validation Loss</th>\n",
       "    </tr>\n",
       "  </thead>\n",
       "  <tbody>\n",
       "  </tbody>\n",
       "</table><p>"
      ],
      "text/plain": [
       "<IPython.core.display.HTML object>"
      ]
     },
     "metadata": {},
     "output_type": "display_data"
    },
    {
     "data": {
      "text/html": [
       "\n",
       "    <div>\n",
       "      \n",
       "      <progress value='15000' max='15000' style='width:300px; height:20px; vertical-align: middle;'></progress>\n",
       "      [15000/15000 3:34:24, Epoch 3/3]\n",
       "    </div>\n",
       "    <table border=\"1\" class=\"dataframe\">\n",
       "  <thead>\n",
       " <tr style=\"text-align: left;\">\n",
       "      <th>Epoch</th>\n",
       "      <th>Training Loss</th>\n",
       "      <th>Validation Loss</th>\n",
       "    </tr>\n",
       "  </thead>\n",
       "  <tbody>\n",
       "    <tr>\n",
       "      <td>1</td>\n",
       "      <td>0.252800</td>\n",
       "      <td>0.329180</td>\n",
       "    </tr>\n",
       "    <tr>\n",
       "      <td>2</td>\n",
       "      <td>0.158600</td>\n",
       "      <td>0.338266</td>\n",
       "    </tr>\n",
       "    <tr>\n",
       "      <td>3</td>\n",
       "      <td>0.355200</td>\n",
       "      <td>0.356444</td>\n",
       "    </tr>\n",
       "  </tbody>\n",
       "</table><p>"
      ],
      "text/plain": [
       "<IPython.core.display.HTML object>"
      ]
     },
     "metadata": {},
     "output_type": "display_data"
    },
    {
     "data": {
      "text/plain": [
       "TrainOutput(global_step=15000, training_loss=0.24995172365903853, metrics={'train_runtime': 12865.0857, 'train_samples_per_second': 9.328, 'train_steps_per_second': 1.166, 'total_flos': 3.157315808768016e+16, 'train_loss': 0.24995172365903853, 'epoch': 3.0})"
      ]
     },
     "execution_count": 18,
     "metadata": {},
     "output_type": "execute_result"
    }
   ],
   "source": [
    "# trainer and training BioBert\n",
    "trainer = Trainer(\n",
    "    model=model,\n",
    "    args=training_args,\n",
    "    train_dataset=tokenized_train,\n",
    "    eval_dataset=tokenized_test,\n",
    "    tokenizer=tokenizer,\n",
    "    data_collator=data_collator\n",
    ")\n",
    "\n",
    "trainer.train()"
   ]
  },
  {
   "cell_type": "code",
   "execution_count": 19,
   "metadata": {
    "colab": {
     "base_uri": "https://localhost:8080/",
     "height": 663
    },
    "id": "_pAPjLXmkUW5",
    "outputId": "4e14b417-1cba-45dc-f8e1-bb2e19b09916"
   },
   "outputs": [
    {
     "data": {
      "text/html": [],
      "text/plain": [
       "<IPython.core.display.HTML object>"
      ]
     },
     "metadata": {},
     "output_type": "display_data"
    },
    {
     "name": "stdout",
     "output_type": "stream",
     "text": [
      "\n",
      "BioBERT Classification Report:\n",
      "              precision    recall  f1-score   support\n",
      "\n",
      "           0       0.86      0.96      0.90      6531\n",
      "           1       0.90      0.70      0.79      3469\n",
      "\n",
      "    accuracy                           0.87     10000\n",
      "   macro avg       0.88      0.83      0.85     10000\n",
      "weighted avg       0.87      0.87      0.86     10000\n",
      "\n"
     ]
    },
    {
     "data": {
      "image/png": "[encoded data removed]",
      "text/plain": [
       "<Figure size 640x480 with 2 Axes>"
      ]
     },
     "metadata": {},
     "output_type": "display_data"
    }
   ],
   "source": [
    "preds_output = trainer.predict(tokenized_test)\n",
    "y_true = preds_output.label_ids\n",
    "y_pred = np.argmax(preds_output.predictions, axis=1)\n",
    "\n",
    "print(\"\\nBioBERT Classification Report:\")\n",
    "print(classification_report(y_true, y_pred))\n",
    "\n",
    "ConfusionMatrixDisplay.from_predictions(y_true, y_pred, display_labels=[\"Not Adverse\", \"Adverse\"])\n",
    "plt.title(\"BioBERT Confusion Matrix\")\n",
    "plt.show()\n"
   ]
  },
  {
   "cell_type": "code",
   "execution_count": 20,
   "metadata": {
    "colab": {
     "base_uri": "https://localhost:8080/"
    },
    "id": "pB74q-spkUa4",
    "outputId": "8651903b-0b03-4423-8b33-03d403eb94ec"
   },
   "outputs": [
    {
     "data": {
      "text/plain": [
       "('biobert_finetuned_pacemaker/tokenizer_config.json',\n",
       " 'biobert_finetuned_pacemaker/special_tokens_map.json',\n",
       " 'biobert_finetuned_pacemaker/vocab.txt',\n",
       " 'biobert_finetuned_pacemaker/added_tokens.json',\n",
       " 'biobert_finetuned_pacemaker/tokenizer.json')"
      ]
     },
     "execution_count": 20,
     "metadata": {},
     "output_type": "execute_result"
    }
   ],
   "source": [
    "model.save_pretrained(\"biobert_finetuned_pacemaker\")\n",
    "tokenizer.save_pretrained(\"biobert_finetuned_pacemaker\")"
   ]
  }
 ],
 "metadata": {
  "accelerator": "GPU",
  "colab": {
   "gpuType": "T4",
   "provenance": []
  },
  "kernelspec": {
   "display_name": "Python 3",
   "name": "python3"
  },
  "language_info": {
   "name": "python"
  }
 },
 "nbformat": 4,
 "nbformat_minor": 0
}
