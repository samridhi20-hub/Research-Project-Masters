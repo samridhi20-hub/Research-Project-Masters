{
 "cells": [
  {
   "cell_type": "code",
   "execution_count": null,
   "id": "3135c17f-f7e7-4fa4-848d-a414ed928be2",
   "metadata": {},
   "outputs": [
    {
     "name": "stdout",
     "output_type": "stream",
     "text": [
      " * Serving Flask app '__main__'\n",
      " * Debug mode: off\n"
     ]
    },
    {
     "name": "stderr",
     "output_type": "stream",
     "text": [
      "WARNING: This is a development server. Do not use it in a production deployment. Use a production WSGI server instead.\n",
      " * Running on http://127.0.0.1:5000\n",
      "Press CTRL+C to quit\n",
      "127.0.0.1 - - [09/Jul/2025 13:19:17] \"GET / HTTP/1.1\" 200 -\n",
      "127.0.0.1 - - [09/Jul/2025 13:20:34] \"POST /upload HTTP/1.1\" 200 -\n"
     ]
    }
   ],
   "source": [
    "from flask import Flask, request, render_template_string, send_file\n",
    "import pandas as pd\n",
    "import torch\n",
    "from transformers import AutoTokenizer, AutoModelForSequenceClassification\n",
    "import os\n",
    "import io\n",
    "\n",
    "app = Flask(__name__)\n",
    "\n",
    "# Load your model\n",
    "model_path = \"D:/DATA FOR RESEARCH PROJECT/biobert_pacemaker_final-20250623T084209Z-1-001/biobert_pacemaker_final\"  # path to downloaded model\n",
    "tokenizer = AutoTokenizer.from_pretrained(model_path)\n",
    "model = AutoModelForSequenceClassification.from_pretrained(model_path)\n",
    "model.eval()\n",
    "\n",
    "# Classification function\n",
    "def classify_text(text):\n",
    "    inputs = tokenizer(text, return_tensors=\"pt\", truncation=True, padding=True, max_length=512)\n",
    "    with torch.no_grad():\n",
    "        outputs = model(**inputs)\n",
    "        probs = torch.nn.functional.softmax(outputs.logits, dim=1)\n",
    "        pred = torch.argmax(probs).item()\n",
    "        conf = probs[0][pred].item()\n",
    "    label = \"Adverse Event\" if pred == 1 else \"Not Adverse\"\n",
    "    return label, round(conf, 3)\n",
    "\n",
    "# Home route with upload form\n",
    "@app.route(\"/\", methods=[\"GET\", \"POST\"])\n",
    "def home():\n",
    "    return '''\n",
    "        <h2>BioBERT Classifier - Upload CSV</h2>\n",
    "        <form action=\"/upload\" method=\"post\" enctype=\"multipart/form-data\">\n",
    "            <p>Select a CSV file (must contain 'FOI_TEXT' column):</p>\n",
    "            <input type=\"file\" name=\"file\">\n",
    "            <input type=\"submit\" value=\"Upload and Classify\">\n",
    "        </form>\n",
    "    '''\n",
    "\n",
    "# Handle CSV upload and return predictions\n",
    "@app.route(\"/upload\", methods=[\"POST\"])\n",
    "def upload():\n",
    "    if 'file' not in request.files:\n",
    "        return \"No file uploaded\"\n",
    "\n",
    "    file = request.files['file']\n",
    "    # df = pd.read_csv(file)\n",
    "    df = pd.read_csv(file, low_memory=False)\n",
    "\n",
    "    if 'FOI_TEXT' not in df.columns:\n",
    "        return \"CSV must contain a column named 'FOI_TEXT'\"\n",
    "\n",
    "    # Classify each row\n",
    "    predictions = []\n",
    "    confidences = []\n",
    "\n",
    "    for text in df['FOI_TEXT'].astype(str).tolist():\n",
    "        label, conf = classify_text(text)\n",
    "        predictions.append(label)\n",
    "        confidences.append(conf)\n",
    "\n",
    "    df['Prediction'] = predictions\n",
    "    df['Confidence'] = confidences\n",
    "\n",
    "    # Save result to in-memory file\n",
    "    output = io.StringIO()\n",
    "    df.to_csv(output, index=False)\n",
    "    output.seek(0)\n",
    "\n",
    "    return send_file(\n",
    "        io.BytesIO(output.getvalue().encode()),\n",
    "        mimetype='text/csv',\n",
    "        as_attachment=True,\n",
    "        download_name='classified_results.csv'\n",
    "    )\n",
    "\n",
    "if __name__ == \"__main__\":\n",
    "    app.run()\n"
   ]
  },
  {
   "cell_type": "code",
   "execution_count": 5,
   "id": "fd1471f5-cd33-42c8-9593-9184bc566555",
   "metadata": {},
   "outputs": [
    {
     "name": "stdout",
     "output_type": "stream",
     "text": [
      "First 100 foi_text columns extracted\n"
     ]
    }
   ],
   "source": [
    "import pandas as pd\n",
    "\n",
    "# Load your full dataset\n",
    "df = pd.read_csv(\"D:/DATA FOR RESEARCH PROJECT/Clean data/pacemakerClean2.csv\", low_memory=False)\n",
    "\n",
    "# Extract first 100 rows of only the FOI_TEXT column\n",
    "df_subset = df[['FOI_TEXT']].head(100)\n",
    "\n",
    "# Save the subset to a new CSV file\n",
    "df_subset.to_csv(\"D:/DATA FOR RESEARCH PROJECT/Clean data/foi_text_first100.csv\", index=False)\n",
    "\n",
    "print(\"First 100 foi_text columns extracted\")\n"
   ]
  },
  {
   "cell_type": "code",
   "execution_count": 9,
   "id": "a132d605-36f3-41de-8629-550e62cfe824",
   "metadata": {},
   "outputs": [
    {
     "name": "stdout",
     "output_type": "stream",
     "text": [
      "First 500 foi_text columns extracted\n"
     ]
    }
   ],
   "source": [
    "import pandas as pd\n",
    "\n",
    "# Load your full dataset\n",
    "df = pd.read_csv(\"D:/DATA FOR RESEARCH PROJECT/Clean data/pacemakerClean2.csv\", low_memory=False)\n",
    "\n",
    "# Extract first 100 rows of only the FOI_TEXT column\n",
    "df_subset = df[['FOI_TEXT']].head(500)\n",
    "\n",
    "# Save the subset to a new CSV file\n",
    "df_subset.to_csv(\"D:/DATA FOR RESEARCH PROJECT/Clean data/foi_text_first500.csv\", index=False)\n",
    "\n",
    "print(\"First 500 foi_text columns extracted\")"
   ]
  }
 ],
 "metadata": {
  "kernelspec": {
   "display_name": "Python 3 (ipykernel)",
   "language": "python",
   "name": "python3"
  },
  "language_info": {
   "codemirror_mode": {
    "name": "ipython",
    "version": 3
   },
   "file_extension": ".py",
   "mimetype": "text/x-python",
   "name": "python",
   "nbconvert_exporter": "python",
   "pygments_lexer": "ipython3",
   "version": "3.12.7"
  }
 },
 "nbformat": 4,
 "nbformat_minor": 5
}
